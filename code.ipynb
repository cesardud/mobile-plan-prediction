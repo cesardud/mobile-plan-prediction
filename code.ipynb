{
 "cells": [
  {
   "cell_type": "markdown",
   "metadata": {},
   "source": [
    "\n",
    "# Modelo de predicción de plan (Smart o Ultra) para usuarios de Megaline.\n",
    "</div>"
   ]
  },
  {
   "cell_type": "code",
   "execution_count": 2,
   "metadata": {},
   "outputs": [],
   "source": [
    "import pandas as pd\n",
    "from sklearn.model_selection import train_test_split\n",
    "from sklearn.metrics import mean_squared_error\n",
    "from sklearn.metrics import accuracy_score\n",
    "from sklearn.ensemble import RandomForestClassifier\n",
    "from sklearn.tree import DecisionTreeClassifier\n",
    "from sklearn.linear_model import LogisticRegression\n",
    "import numpy as np"
   ]
  },
  {
   "cell_type": "code",
   "execution_count": 4,
   "metadata": {},
   "outputs": [
    {
     "ename": "FileNotFoundError",
     "evalue": "[Errno 2] No such file or directory: '/datasets/users_behavior.csv'",
     "output_type": "error",
     "traceback": [
      "\u001b[0;31m---------------------------------------------------------------------------\u001b[0m",
      "\u001b[0;31mFileNotFoundError\u001b[0m                         Traceback (most recent call last)",
      "Cell \u001b[0;32mIn[4], line 2\u001b[0m\n\u001b[1;32m      1\u001b[0m \u001b[38;5;66;03m#Abrimos el fd, observamos que no existan observaciones faltantes y que los datos esten correctos\u001b[39;00m\n\u001b[0;32m----> 2\u001b[0m df \u001b[38;5;241m=\u001b[39m pd\u001b[38;5;241m.\u001b[39mread_csv(\u001b[38;5;124m'\u001b[39m\u001b[38;5;124m/datasets/users_behavior.csv\u001b[39m\u001b[38;5;124m'\u001b[39m)\n\u001b[1;32m      3\u001b[0m \u001b[38;5;28mprint\u001b[39m(df\u001b[38;5;241m.\u001b[39mhead())\n\u001b[1;32m      4\u001b[0m \u001b[38;5;28mprint\u001b[39m()\n",
      "File \u001b[0;32m/opt/anaconda3/lib/python3.12/site-packages/pandas/io/parsers/readers.py:1026\u001b[0m, in \u001b[0;36mread_csv\u001b[0;34m(filepath_or_buffer, sep, delimiter, header, names, index_col, usecols, dtype, engine, converters, true_values, false_values, skipinitialspace, skiprows, skipfooter, nrows, na_values, keep_default_na, na_filter, verbose, skip_blank_lines, parse_dates, infer_datetime_format, keep_date_col, date_parser, date_format, dayfirst, cache_dates, iterator, chunksize, compression, thousands, decimal, lineterminator, quotechar, quoting, doublequote, escapechar, comment, encoding, encoding_errors, dialect, on_bad_lines, delim_whitespace, low_memory, memory_map, float_precision, storage_options, dtype_backend)\u001b[0m\n\u001b[1;32m   1013\u001b[0m kwds_defaults \u001b[38;5;241m=\u001b[39m _refine_defaults_read(\n\u001b[1;32m   1014\u001b[0m     dialect,\n\u001b[1;32m   1015\u001b[0m     delimiter,\n\u001b[0;32m   (...)\u001b[0m\n\u001b[1;32m   1022\u001b[0m     dtype_backend\u001b[38;5;241m=\u001b[39mdtype_backend,\n\u001b[1;32m   1023\u001b[0m )\n\u001b[1;32m   1024\u001b[0m kwds\u001b[38;5;241m.\u001b[39mupdate(kwds_defaults)\n\u001b[0;32m-> 1026\u001b[0m \u001b[38;5;28;01mreturn\u001b[39;00m _read(filepath_or_buffer, kwds)\n",
      "File \u001b[0;32m/opt/anaconda3/lib/python3.12/site-packages/pandas/io/parsers/readers.py:620\u001b[0m, in \u001b[0;36m_read\u001b[0;34m(filepath_or_buffer, kwds)\u001b[0m\n\u001b[1;32m    617\u001b[0m _validate_names(kwds\u001b[38;5;241m.\u001b[39mget(\u001b[38;5;124m\"\u001b[39m\u001b[38;5;124mnames\u001b[39m\u001b[38;5;124m\"\u001b[39m, \u001b[38;5;28;01mNone\u001b[39;00m))\n\u001b[1;32m    619\u001b[0m \u001b[38;5;66;03m# Create the parser.\u001b[39;00m\n\u001b[0;32m--> 620\u001b[0m parser \u001b[38;5;241m=\u001b[39m TextFileReader(filepath_or_buffer, \u001b[38;5;241m*\u001b[39m\u001b[38;5;241m*\u001b[39mkwds)\n\u001b[1;32m    622\u001b[0m \u001b[38;5;28;01mif\u001b[39;00m chunksize \u001b[38;5;129;01mor\u001b[39;00m iterator:\n\u001b[1;32m    623\u001b[0m     \u001b[38;5;28;01mreturn\u001b[39;00m parser\n",
      "File \u001b[0;32m/opt/anaconda3/lib/python3.12/site-packages/pandas/io/parsers/readers.py:1620\u001b[0m, in \u001b[0;36mTextFileReader.__init__\u001b[0;34m(self, f, engine, **kwds)\u001b[0m\n\u001b[1;32m   1617\u001b[0m     \u001b[38;5;28mself\u001b[39m\u001b[38;5;241m.\u001b[39moptions[\u001b[38;5;124m\"\u001b[39m\u001b[38;5;124mhas_index_names\u001b[39m\u001b[38;5;124m\"\u001b[39m] \u001b[38;5;241m=\u001b[39m kwds[\u001b[38;5;124m\"\u001b[39m\u001b[38;5;124mhas_index_names\u001b[39m\u001b[38;5;124m\"\u001b[39m]\n\u001b[1;32m   1619\u001b[0m \u001b[38;5;28mself\u001b[39m\u001b[38;5;241m.\u001b[39mhandles: IOHandles \u001b[38;5;241m|\u001b[39m \u001b[38;5;28;01mNone\u001b[39;00m \u001b[38;5;241m=\u001b[39m \u001b[38;5;28;01mNone\u001b[39;00m\n\u001b[0;32m-> 1620\u001b[0m \u001b[38;5;28mself\u001b[39m\u001b[38;5;241m.\u001b[39m_engine \u001b[38;5;241m=\u001b[39m \u001b[38;5;28mself\u001b[39m\u001b[38;5;241m.\u001b[39m_make_engine(f, \u001b[38;5;28mself\u001b[39m\u001b[38;5;241m.\u001b[39mengine)\n",
      "File \u001b[0;32m/opt/anaconda3/lib/python3.12/site-packages/pandas/io/parsers/readers.py:1880\u001b[0m, in \u001b[0;36mTextFileReader._make_engine\u001b[0;34m(self, f, engine)\u001b[0m\n\u001b[1;32m   1878\u001b[0m     \u001b[38;5;28;01mif\u001b[39;00m \u001b[38;5;124m\"\u001b[39m\u001b[38;5;124mb\u001b[39m\u001b[38;5;124m\"\u001b[39m \u001b[38;5;129;01mnot\u001b[39;00m \u001b[38;5;129;01min\u001b[39;00m mode:\n\u001b[1;32m   1879\u001b[0m         mode \u001b[38;5;241m+\u001b[39m\u001b[38;5;241m=\u001b[39m \u001b[38;5;124m\"\u001b[39m\u001b[38;5;124mb\u001b[39m\u001b[38;5;124m\"\u001b[39m\n\u001b[0;32m-> 1880\u001b[0m \u001b[38;5;28mself\u001b[39m\u001b[38;5;241m.\u001b[39mhandles \u001b[38;5;241m=\u001b[39m get_handle(\n\u001b[1;32m   1881\u001b[0m     f,\n\u001b[1;32m   1882\u001b[0m     mode,\n\u001b[1;32m   1883\u001b[0m     encoding\u001b[38;5;241m=\u001b[39m\u001b[38;5;28mself\u001b[39m\u001b[38;5;241m.\u001b[39moptions\u001b[38;5;241m.\u001b[39mget(\u001b[38;5;124m\"\u001b[39m\u001b[38;5;124mencoding\u001b[39m\u001b[38;5;124m\"\u001b[39m, \u001b[38;5;28;01mNone\u001b[39;00m),\n\u001b[1;32m   1884\u001b[0m     compression\u001b[38;5;241m=\u001b[39m\u001b[38;5;28mself\u001b[39m\u001b[38;5;241m.\u001b[39moptions\u001b[38;5;241m.\u001b[39mget(\u001b[38;5;124m\"\u001b[39m\u001b[38;5;124mcompression\u001b[39m\u001b[38;5;124m\"\u001b[39m, \u001b[38;5;28;01mNone\u001b[39;00m),\n\u001b[1;32m   1885\u001b[0m     memory_map\u001b[38;5;241m=\u001b[39m\u001b[38;5;28mself\u001b[39m\u001b[38;5;241m.\u001b[39moptions\u001b[38;5;241m.\u001b[39mget(\u001b[38;5;124m\"\u001b[39m\u001b[38;5;124mmemory_map\u001b[39m\u001b[38;5;124m\"\u001b[39m, \u001b[38;5;28;01mFalse\u001b[39;00m),\n\u001b[1;32m   1886\u001b[0m     is_text\u001b[38;5;241m=\u001b[39mis_text,\n\u001b[1;32m   1887\u001b[0m     errors\u001b[38;5;241m=\u001b[39m\u001b[38;5;28mself\u001b[39m\u001b[38;5;241m.\u001b[39moptions\u001b[38;5;241m.\u001b[39mget(\u001b[38;5;124m\"\u001b[39m\u001b[38;5;124mencoding_errors\u001b[39m\u001b[38;5;124m\"\u001b[39m, \u001b[38;5;124m\"\u001b[39m\u001b[38;5;124mstrict\u001b[39m\u001b[38;5;124m\"\u001b[39m),\n\u001b[1;32m   1888\u001b[0m     storage_options\u001b[38;5;241m=\u001b[39m\u001b[38;5;28mself\u001b[39m\u001b[38;5;241m.\u001b[39moptions\u001b[38;5;241m.\u001b[39mget(\u001b[38;5;124m\"\u001b[39m\u001b[38;5;124mstorage_options\u001b[39m\u001b[38;5;124m\"\u001b[39m, \u001b[38;5;28;01mNone\u001b[39;00m),\n\u001b[1;32m   1889\u001b[0m )\n\u001b[1;32m   1890\u001b[0m \u001b[38;5;28;01massert\u001b[39;00m \u001b[38;5;28mself\u001b[39m\u001b[38;5;241m.\u001b[39mhandles \u001b[38;5;129;01mis\u001b[39;00m \u001b[38;5;129;01mnot\u001b[39;00m \u001b[38;5;28;01mNone\u001b[39;00m\n\u001b[1;32m   1891\u001b[0m f \u001b[38;5;241m=\u001b[39m \u001b[38;5;28mself\u001b[39m\u001b[38;5;241m.\u001b[39mhandles\u001b[38;5;241m.\u001b[39mhandle\n",
      "File \u001b[0;32m/opt/anaconda3/lib/python3.12/site-packages/pandas/io/common.py:873\u001b[0m, in \u001b[0;36mget_handle\u001b[0;34m(path_or_buf, mode, encoding, compression, memory_map, is_text, errors, storage_options)\u001b[0m\n\u001b[1;32m    868\u001b[0m \u001b[38;5;28;01melif\u001b[39;00m \u001b[38;5;28misinstance\u001b[39m(handle, \u001b[38;5;28mstr\u001b[39m):\n\u001b[1;32m    869\u001b[0m     \u001b[38;5;66;03m# Check whether the filename is to be opened in binary mode.\u001b[39;00m\n\u001b[1;32m    870\u001b[0m     \u001b[38;5;66;03m# Binary mode does not support 'encoding' and 'newline'.\u001b[39;00m\n\u001b[1;32m    871\u001b[0m     \u001b[38;5;28;01mif\u001b[39;00m ioargs\u001b[38;5;241m.\u001b[39mencoding \u001b[38;5;129;01mand\u001b[39;00m \u001b[38;5;124m\"\u001b[39m\u001b[38;5;124mb\u001b[39m\u001b[38;5;124m\"\u001b[39m \u001b[38;5;129;01mnot\u001b[39;00m \u001b[38;5;129;01min\u001b[39;00m ioargs\u001b[38;5;241m.\u001b[39mmode:\n\u001b[1;32m    872\u001b[0m         \u001b[38;5;66;03m# Encoding\u001b[39;00m\n\u001b[0;32m--> 873\u001b[0m         handle \u001b[38;5;241m=\u001b[39m \u001b[38;5;28mopen\u001b[39m(\n\u001b[1;32m    874\u001b[0m             handle,\n\u001b[1;32m    875\u001b[0m             ioargs\u001b[38;5;241m.\u001b[39mmode,\n\u001b[1;32m    876\u001b[0m             encoding\u001b[38;5;241m=\u001b[39mioargs\u001b[38;5;241m.\u001b[39mencoding,\n\u001b[1;32m    877\u001b[0m             errors\u001b[38;5;241m=\u001b[39merrors,\n\u001b[1;32m    878\u001b[0m             newline\u001b[38;5;241m=\u001b[39m\u001b[38;5;124m\"\u001b[39m\u001b[38;5;124m\"\u001b[39m,\n\u001b[1;32m    879\u001b[0m         )\n\u001b[1;32m    880\u001b[0m     \u001b[38;5;28;01melse\u001b[39;00m:\n\u001b[1;32m    881\u001b[0m         \u001b[38;5;66;03m# Binary mode\u001b[39;00m\n\u001b[1;32m    882\u001b[0m         handle \u001b[38;5;241m=\u001b[39m \u001b[38;5;28mopen\u001b[39m(handle, ioargs\u001b[38;5;241m.\u001b[39mmode)\n",
      "\u001b[0;31mFileNotFoundError\u001b[0m: [Errno 2] No such file or directory: '/datasets/users_behavior.csv'"
     ]
    }
   ],
   "source": [
    "#Abrimos el fd, observamos que no existan observaciones faltantes y que los datos esten correctos\n",
    "df = pd.read_csv('/datasets/users_behavior.csv')\n",
    "print(df.head())\n",
    "print()\n",
    "print(df.info())"
   ]
  },
  {
   "cell_type": "code",
   "execution_count": 3,
   "metadata": {},
   "outputs": [],
   "source": [
    "#Dividimos el df en variables dependientes e independientes\n",
    "x= df.drop(['is_ultra'], axis=1)\n",
    "y=df['is_ultra']\n",
    "#Segmentamos en entrenamiento, validacion y prueba\n",
    "x_train, x_temp, y_train, y_temp = train_test_split(x, y, test_size=0.40, random_state=12345)\n",
    "x_valid, x_test, y_valid, y_test = train_test_split(x_temp, y_temp, test_size = .5, random_state=12345)"
   ]
  },
  {
   "cell_type": "code",
   "execution_count": 4,
   "metadata": {},
   "outputs": [
    {
     "name": "stdout",
     "output_type": "stream",
     "text": [
      "Accuracy del mejor modelo en el conjunto de validación (max_depth = 3): 0.7853810264385692\n",
      "\n",
      "Final accuracy en el conjunto de prueba: 0.7792\n",
      "\n",
      "Accuracy del DummyClassifier (estrategia = \"stratified\"): 0.5365\n"
     ]
    }
   ],
   "source": [
    "#Comenzamos con el modelo de Arboles de clasificación\n",
    "best_model_1 = None\n",
    "best_accuracy_1 = 0\n",
    "best_depth_1 = 0\n",
    "\n",
    "for depth in range(1, 11):\n",
    "    model_1 = DecisionTreeClassifier(max_depth= depth, random_state=12345)\n",
    "    model_1.fit(x_train, y_train)\n",
    "    predictions_1_valid = model_1.predict(x_valid)\n",
    "    accuracy_1 = accuracy_score(y_valid, predictions_1_valid)\n",
    "    if accuracy_1 > best_accuracy_1:\n",
    "        best_model_1=model_1\n",
    "        best_accuracy_1=accuracy_1\n",
    "        best_depth_1=depth\n",
    "        \n",
    "print(f\"Accuracy del mejor modelo en el conjunto de validación (max_depth = {best_depth_1}): {best_accuracy_1}\")        \n",
    "print()\n",
    "final_model_1 = DecisionTreeClassifier(max_depth=best_depth_1, random_state=12345)\n",
    "final_model_1.fit(x_train, y_train)\n",
    "predictions_1_test = final_model_1.predict(x_test)\n",
    "\n",
    "final_accuracy_1 = accuracy_score(y_test, predictions_1_test)\n",
    "print(f'Final accuracy en el conjunto de prueba: {final_accuracy_1:.4f}')\n",
    "\n",
    "print()\n",
    "\n",
    "from sklearn.dummy import DummyClassifier\n",
    "\n",
    "dummy = DummyClassifier(strategy='stratified', random_state=12345)\n",
    "dummy.fit(x_train, y_train)\n",
    "dummy_predictions = dummy.predict(x_test)\n",
    "dummy_accuracy = accuracy_score(y_test, dummy_predictions)\n",
    "\n",
    "print(f'Accuracy del DummyClassifier (estrategia = \"stratified\"): {dummy_accuracy:.4f}')\n",
    "\n",
    "\n"
   ]
  },
  {
   "cell_type": "markdown",
   "metadata": {},
   "source": [
    "# Árboles de clasificación\n",
    "\n",
    "Se hizo el bucle en el conjunto de entrenamiento para escoger el mejor hiperparametro depth, para este caso fué un max_depth=3, en donde se obtuvo un accuracy de .785.\n",
    "\n",
    "Al aplicar el modelo con max_depth=3 y comprobarlo en el conjunto de prueba, se obtuvo un accuracy de .779, lo que indica que el modelo acertó el plan del cliente el 77.9% de las veces.\n",
    "\n",
    "Se probó la cordura del modelo comparandola con una prueba dummy donde se haga un modelo sin aprendizaje donde se hacen predicciones al azar pero respetando la proporción original estrategia = \"stratified\". Dicho modelo tuvo un accuracy de .53, menor al modelo de aprendizaje DecisionTreeClassifier con depth=10; por lo que podemos decir que nuestro modelo final_model_1 no solo adivina; sino que tiene capacidad predictiva real.\n"
   ]
  },
  {
   "cell_type": "code",
   "execution_count": 5,
   "metadata": {},
   "outputs": [
    {
     "name": "stdout",
     "output_type": "stream",
     "text": [
      "Accuracy del mejor modelo en el conjunto de validación (n_estimators = 10): 0.7853810264385692\n",
      "\n",
      "Final accuracy en el conjunto de prueba: 0.7807\n"
     ]
    }
   ],
   "source": [
    "#Probamos ahora el modelo Bosque Aleatorio de Clasificación\n",
    "best_model_2 = None\n",
    "best_accuracy_2 = 0\n",
    "best_est_2 = 0\n",
    "for est in range(1,11):\n",
    "    model_2=RandomForestClassifier(random_state=12345, n_estimators= est)\n",
    "    model_2.fit(x_train, y_train)\n",
    "    predictions_2_valid = model_2.predict(x_valid)\n",
    "    accuracy_2 = accuracy_score(y_valid, predictions_2_valid)\n",
    "    if accuracy_2 > best_accuracy_2:\n",
    "        best_model_2=model_2\n",
    "        best_accuracy_2=accuracy_2\n",
    "        best_est_2=est\n",
    "print(f\"Accuracy del mejor modelo en el conjunto de validación (n_estimators = {best_est_2}): {best_accuracy_2}\")        \n",
    "print()\n",
    "final_model_2 = RandomForestClassifier(random_state=12345, n_estimators= best_est_2)\n",
    "final_model_2.fit(x_train, y_train)\n",
    "predictions_2_test = final_model_2.predict(x_test)\n",
    "\n",
    "final_accuracy_2 = accuracy_score(y_test, predictions_2_test)\n",
    "print(f'Final accuracy en el conjunto de prueba: {final_accuracy_2:.4f}')\n",
    "\n"
   ]
  },
  {
   "cell_type": "markdown",
   "metadata": {},
   "source": [
    "# Bosque aleatorio de clasificación\n",
    "\n",
    "Se hizo el bucle en el conjunto de entrenamiento para escoger el mejor hiperparametro n_estimators, para este caso fué un n_estimators=10, en donde se obtuvo un accuracy de .785.\n",
    "\n",
    "Al aplicar el modelo con n_estimators=10 y comprobarlo en el conjunto de prueba, se obtuvo un accuracy de .78, lo que indica que el modelo acertó el plan del cliente el 78% de las veces.\n",
    "\n",
    "Se probó la cordura del modelo comparandola con una prueba dummy donde se haga un modelo sin aprendizaje donde se hacen predicciones al azar pero respetando la proporción original estrategia = \"stratified\". Dicho modelo tuvo un accuracy .53, menor al modelo de aprendizaje DecisionTreeClassifier con depth=10; por lo que podemos decir que nuestro modelo final_model_2 no solo adivina; sino que tiene capacidad predictiva real."
   ]
  },
  {
   "cell_type": "code",
   "execution_count": 6,
   "metadata": {},
   "outputs": [
    {
     "name": "stdout",
     "output_type": "stream",
     "text": [
      "Accuracy del mejor modelo en el conjunto de validación (C = 1.0): 0.7589424572317263\n",
      "\n",
      "Final accuracy en el conjunto de prueba: 0.7403\n"
     ]
    }
   ],
   "source": [
    "#Probamos ahora el modelo Logistico\n",
    "best_model_3 = None\n",
    "best_accuracy_3 = 0\n",
    "best_C_3 = 0\n",
    "for c in np.arange(1.0, 11.0):\n",
    "    model_3=LogisticRegression(random_state=12345, penalty='l2', solver='liblinear', C=c)\n",
    "    model_3.fit(x_train, y_train)\n",
    "    predictions_3_valid = model_3.predict(x_valid)\n",
    "    accuracy_3 = accuracy_score(y_valid, predictions_3_valid)\n",
    "    if accuracy_3 > best_accuracy_3:\n",
    "        best_model_3=model_3\n",
    "        best_accuracy_3=accuracy_3\n",
    "        best_C_3=c\n",
    "print(f\"Accuracy del mejor modelo en el conjunto de validación (C = {best_C_3}): {best_accuracy_3}\")        \n",
    "print()\n",
    "final_model_3 = LogisticRegression(random_state=12345, penalty='l2', solver='liblinear', C=best_C_3)\n",
    "final_model_3.fit(x_train, y_train)\n",
    "predictions_3_test = final_model_3.predict(x_test)\n",
    "\n",
    "final_accuracy_3 = accuracy_score(y_test, predictions_3_test)\n",
    "print(f'Final accuracy en el conjunto de prueba: {final_accuracy_3:.4f}')"
   ]
  },
  {
   "cell_type": "markdown",
   "metadata": {},
   "source": [
    "# Bosque aleatorio de clasificación\n",
    "\n",
    "Se hizo el bucle en el conjunto de entrenamiento para escoger el mejor hiperparametro C y aplicando la penalización Ridge l2, para este caso fué un C=1.0, en donde se obtuvo un accuracy de .758.\n",
    "\n",
    "Al aplicar el modelo con C=1.0 y comprobarlo en el conjunto de prueba, se obtuvo un accuracy de .74, lo que indica que el modelo acertó el plan del cliente el 74% de las veces.\n",
    "\n",
    "Se probó la cordura del modelo comparandola con una prueba dummy donde se haga un modelo sin aprendizaje donde se hacen predicciones al azar pero respetando la proporción original estrategia = \"stratified\". Dicho modelo tuvo un accuracy de .53 menor al modelo de aprendizaje DecisionTreeClassifier con depth=10; por lo que podemos decir que nuestro modelo final_model_3 no solo adivina; sino que tiene capacidad predictiva real, aunque no llega a la exactitud deseada."
   ]
  },
  {
   "cell_type": "code",
   "execution_count": 7,
   "metadata": {},
   "outputs": [
    {
     "name": "stdout",
     "output_type": "stream",
     "text": [
      "Final Accuracy del modelo Árboles de clasificación: 0.7792\n",
      "\n",
      "Final Accuracy del modelo Bosque Aleatorio de Clasificación: 0.7807\n",
      "\n",
      "Final Accuracy del modelo Logístico: 0.7403\n"
     ]
    }
   ],
   "source": [
    "print(f'Final Accuracy del modelo Árboles de clasificación: {final_accuracy_1:.4f}')\n",
    "print()\n",
    "print(f'Final Accuracy del modelo Bosque Aleatorio de Clasificación: {final_accuracy_2:.4f}')\n",
    "print()\n",
    "print(f'Final Accuracy del modelo Logístico: {final_accuracy_3:.4f}')"
   ]
  },
  {
   "cell_type": "markdown",
   "metadata": {},
   "source": [
    "# Conclusiónes\n",
    "Posterior a hacer pruebas con 3 modelos con distintos hiperparámetros, todos los modelos aprobaron la cordura del modelo comparandola con una prueba dummy\n",
    "\n",
    "\n",
    "Se obtuvo que tanto los modelos Árboles de clasificación y Bosque Aleatorio de Clasificación obtuvieron un umbral de exactitud mayor al objetivo \">75\", mientras que el Accuracy del modelo Logístico se encuentra a niveles cercanos y podría ser aceptable en varios casos, en este al no alcanzar el objetivo se prefieren los otros 2.\n",
    "\n",
    "\n",
    "El Accuracy del modelo Árboles de clasificación: 0.7792 es menor al Accuracy del modelo Bosque Aleatorio de Clasificación: 0.7807; por lo que en este modelo con estas variables se preferiría el uso del modelo Bosque Aleatorio de Clasificación.\n",
    "\n"
   ]
  }
 ],
 "metadata": {
  "ExecuteTimeLog": [
   {
    "duration": 298,
    "start_time": "2025-04-22T23:35:25.609Z"
   },
   {
    "duration": 205,
    "start_time": "2025-04-22T23:35:44.283Z"
   },
   {
    "duration": 15,
    "start_time": "2025-04-22T23:36:01.452Z"
   },
   {
    "duration": 21,
    "start_time": "2025-04-22T23:36:10.143Z"
   },
   {
    "duration": 16,
    "start_time": "2025-04-22T23:38:57.037Z"
   },
   {
    "duration": 505,
    "start_time": "2025-04-22T23:42:19.338Z"
   },
   {
    "duration": 4,
    "start_time": "2025-04-22T23:57:32.478Z"
   },
   {
    "duration": 83,
    "start_time": "2025-04-23T00:08:09.532Z"
   },
   {
    "duration": 9,
    "start_time": "2025-04-23T00:08:15.161Z"
   },
   {
    "duration": 8,
    "start_time": "2025-04-23T00:11:50.192Z"
   },
   {
    "duration": 16,
    "start_time": "2025-04-23T00:36:37.676Z"
   },
   {
    "duration": 32,
    "start_time": "2025-04-23T00:36:44.637Z"
   },
   {
    "duration": 24,
    "start_time": "2025-04-23T00:36:46.357Z"
   },
   {
    "duration": 53,
    "start_time": "2025-04-23T00:37:10.923Z"
   },
   {
    "duration": 3,
    "start_time": "2025-04-23T00:44:11.802Z"
   },
   {
    "duration": 54,
    "start_time": "2025-04-23T00:48:31.384Z"
   },
   {
    "duration": 159,
    "start_time": "2025-04-23T00:50:55.836Z"
   },
   {
    "duration": 86,
    "start_time": "2025-04-23T00:51:16.870Z"
   },
   {
    "duration": 3,
    "start_time": "2025-04-23T00:53:07.092Z"
   },
   {
    "duration": 59,
    "start_time": "2025-04-23T00:53:35.254Z"
   },
   {
    "duration": 59,
    "start_time": "2025-04-23T00:53:56.789Z"
   },
   {
    "duration": 62,
    "start_time": "2025-04-23T00:54:23.927Z"
   },
   {
    "duration": 61,
    "start_time": "2025-04-23T01:02:44.568Z"
   },
   {
    "duration": 59,
    "start_time": "2025-04-23T01:03:00.503Z"
   },
   {
    "duration": 66,
    "start_time": "2025-04-23T01:08:07.894Z"
   },
   {
    "duration": 64,
    "start_time": "2025-04-23T01:25:45.352Z"
   },
   {
    "duration": 64,
    "start_time": "2025-04-23T01:39:25.634Z"
   },
   {
    "duration": 65,
    "start_time": "2025-04-23T01:59:14.095Z"
   },
   {
    "duration": 65,
    "start_time": "2025-04-23T01:59:16.164Z"
   },
   {
    "duration": 235,
    "start_time": "2025-04-23T02:05:13.209Z"
   },
   {
    "duration": 233,
    "start_time": "2025-04-23T02:08:32.361Z"
   },
   {
    "duration": 61,
    "start_time": "2025-04-23T02:10:51.438Z"
   },
   {
    "duration": 63,
    "start_time": "2025-04-23T02:11:05.892Z"
   },
   {
    "duration": 236,
    "start_time": "2025-04-23T02:11:54.795Z"
   },
   {
    "duration": 885,
    "start_time": "2025-04-23T20:24:10.496Z"
   },
   {
    "duration": 94,
    "start_time": "2025-04-23T20:24:13.412Z"
   },
   {
    "duration": 7,
    "start_time": "2025-04-23T20:24:15.329Z"
   },
   {
    "duration": 74,
    "start_time": "2025-04-23T20:24:17.062Z"
   },
   {
    "duration": 271,
    "start_time": "2025-04-23T20:24:23.997Z"
   },
   {
    "duration": 3,
    "start_time": "2025-04-23T20:26:06.135Z"
   },
   {
    "duration": 3,
    "start_time": "2025-04-23T20:47:26.913Z"
   },
   {
    "duration": 329,
    "start_time": "2025-04-23T20:47:40.880Z"
   },
   {
    "duration": 69,
    "start_time": "2025-04-23T20:48:15.744Z"
   },
   {
    "duration": 8,
    "start_time": "2025-04-23T20:49:02.879Z"
   },
   {
    "duration": 62,
    "start_time": "2025-04-23T20:52:14.725Z"
   },
   {
    "duration": 61,
    "start_time": "2025-04-23T20:53:35.674Z"
   },
   {
    "duration": 3,
    "start_time": "2025-04-23T20:58:24.417Z"
   },
   {
    "duration": 3,
    "start_time": "2025-04-23T21:06:25.885Z"
   },
   {
    "duration": 15,
    "start_time": "2025-04-23T21:06:27.269Z"
   },
   {
    "duration": 5,
    "start_time": "2025-04-23T21:06:30.263Z"
   },
   {
    "duration": 65,
    "start_time": "2025-04-23T21:06:32.097Z"
   },
   {
    "duration": 239,
    "start_time": "2025-04-23T21:06:37.842Z"
   },
   {
    "duration": 70,
    "start_time": "2025-04-23T21:06:40.862Z"
   },
   {
    "duration": 4,
    "start_time": "2025-04-23T21:06:43.195Z"
   },
   {
    "duration": 828,
    "start_time": "2025-04-24T02:15:56.521Z"
   },
   {
    "duration": 24,
    "start_time": "2025-04-24T02:15:57.351Z"
   },
   {
    "duration": 6,
    "start_time": "2025-04-24T02:15:57.377Z"
   },
   {
    "duration": 70,
    "start_time": "2025-04-24T02:15:57.385Z"
   },
   {
    "duration": 241,
    "start_time": "2025-04-24T02:15:57.456Z"
   },
   {
    "duration": 71,
    "start_time": "2025-04-24T02:15:57.699Z"
   },
   {
    "duration": 3,
    "start_time": "2025-04-24T02:15:57.771Z"
   }
  ],
  "kernelspec": {
   "display_name": "Python [conda env:base] *",
   "language": "python",
   "name": "conda-base-py"
  },
  "language_info": {
   "codemirror_mode": {
    "name": "ipython",
    "version": 3
   },
   "file_extension": ".py",
   "mimetype": "text/x-python",
   "name": "python",
   "nbconvert_exporter": "python",
   "pygments_lexer": "ipython3",
   "version": "3.12.7"
  },
  "toc": {
   "base_numbering": 1,
   "nav_menu": {},
   "number_sections": true,
   "sideBar": true,
   "skip_h1_title": true,
   "title_cell": "Table of Contents",
   "title_sidebar": "Contents",
   "toc_cell": false,
   "toc_position": {},
   "toc_section_display": true,
   "toc_window_display": false
  }
 },
 "nbformat": 4,
 "nbformat_minor": 4
}
